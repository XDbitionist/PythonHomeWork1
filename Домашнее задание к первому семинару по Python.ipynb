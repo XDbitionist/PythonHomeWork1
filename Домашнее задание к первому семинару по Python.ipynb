{
 "cells": [
  {
   "cell_type": "code",
   "execution_count": 12,
   "id": "fb5afcc9",
   "metadata": {},
   "outputs": [
    {
     "name": "stdout",
     "output_type": "stream",
     "text": [
      "Введите цифру дня недели, чтобы определить, является ли этот день выходным: 3\n",
      "Этот день недели не является выходным.\n"
     ]
    }
   ],
   "source": [
    "# Напишите программу, которая принимает на вход цифру, обозначающую день недели, и проверяет, является ли этот день выходным.\n",
    "# Пример:\n",
    "# - 6 -> да\n",
    "# - 7 -> да\n",
    "# - 1 -> нет\n",
    "\n",
    "number = int(input('Введите цифру дня недели, чтобы определить, является ли этот день выходным: '))\n",
    "if number <= 5 and number > 0:\n",
    "    print('Этот день недели не является выходным.')\n",
    "elif number >= 6 and number < 8:\n",
    "    print('Этот день недели является выходным.')\n",
    "else: \n",
    "    print('Введите корректный день недели.')\n"
   ]
  },
  {
   "cell_type": "code",
   "execution_count": 3,
   "id": "4048408f",
   "metadata": {},
   "outputs": [
    {
     "name": "stdout",
     "output_type": "stream",
     "text": [
      "Введите координаты X и Y, для определения четвери, в которой находится точка: \n",
      "-34\n",
      "-30\n",
      "Точка находится в 3 четверти.\n"
     ]
    }
   ],
   "source": [
    "# Напишите программу, которая принимает на вход координаты точки (X и Y), причём X ≠ 0 и Y ≠ 0 и выдаёт номер четверти плоскости, в которой находится эта точка (или на какой оси она находится).\n",
    "# Пример:\n",
    "# - x=34; y=-30 -> 4\n",
    "# - x=2; y=4-> 1\n",
    "# - x=-34; y=-30 -> 3\n",
    "\n",
    "print('Введите координаты X и Y, для определения четвери, в которой находится точка: ')\n",
    "my_list = []\n",
    "for i in range(2):\n",
    "    my_list.append(float(input()))\n",
    "    \n",
    "if my_list[0] > 0 and my_list[1] > 0:\n",
    "    print('Точка находится в 1 четверти.')\n",
    "elif my_list[0] < 0 and my_list[1] > 0:\n",
    "    print('Точка находится во 2 четверти.')\n",
    "elif my_list[0] < 0 and my_list[1] < 0:\n",
    "    print('Точка находится в 3 четверти.')\n",
    "elif my_list[0] > 0 and my_list[1] < 0:\n",
    "    print('Точка находится в 4 четверти.')\n",
    "else:\n",
    "    if my_list[0] == 0 or my_list[1] == 0:\n",
    "        print('Введите координаты точек, не равные 0.')"
   ]
  },
  {
   "cell_type": "code",
   "execution_count": 68,
   "id": "a0008bd2",
   "metadata": {},
   "outputs": [
    {
     "name": "stdout",
     "output_type": "stream",
     "text": [
      "Введите номер четверти координат(от 1 до 4): 4\n",
      "Диапозон возможных точек в 4 четверти: x > 0, y < 0.\n"
     ]
    }
   ],
   "source": [
    "#Напишите программу, которая по заданному номеру четверти, показывает диапазон возможных координат точек в этой четверти (x и y).\n",
    "\n",
    "number = (int(input('Введите номер четверти координат(от 1 до 4): ')))\n",
    "if number < 1 or number > 4:\n",
    "    print('Введите корректнтый номер четверти')\n",
    "elif number == 1:\n",
    "    print('Диапазон возможных точек в 1 четверти: x > 0, y > 0.')\n",
    "elif number == 2:\n",
    "    print('Диапазон возможных точек вo 2 четверти: x < 0, y > 0.')\n",
    "elif number == 3:\n",
    "    print('Диапазон возможных точек в 3 четверти: x < 0, y < 0.')\n",
    "elif number == 4:\n",
    "    print('Диапазон возможных точек в 4 четверти: x > 0, y < 0.')\n"
   ]
  },
  {
   "cell_type": "code",
   "execution_count": 2,
   "id": "9b1bb7b8",
   "metadata": {},
   "outputs": [
    {
     "name": "stdout",
     "output_type": "stream",
     "text": [
      "Введите координаты точки А: \n",
      "7\n",
      "-5\n",
      "Введите координаты точки B: \n",
      "1\n",
      "-1\n",
      "Расстояние между точками в 2D пространстве: 7.21\n"
     ]
    }
   ],
   "source": [
    "# Напишите программу, которая принимает на вход координаты двух точек и находит расстояние между ними в 2D пространстве.\n",
    "# Пример:\n",
    "# - A (3,6); B (2,1) -> 5,09\n",
    "# - A (7,-5); B (1,-1) -> 7,21\n",
    "\n",
    "a = []\n",
    "print('Введите координаты точки А: ')\n",
    "for i in range(2):\n",
    "    a.append(float(input()))\n",
    "b = []\n",
    "print('Введите координаты точки B: ')\n",
    "for i in range(2):\n",
    "    b.append(float(input()))\n",
    "\n",
    "length = ((b[0] - a[0]) ** 2 + (b[1] - a[1]) ** 2) ** (0.5)\n",
    "length = str(round(length, 3))\n",
    "print(f'Расстояние между точками в 2D пространстве: {length[:-1]}')"
   ]
  },
  {
   "cell_type": "code",
   "execution_count": null,
   "id": "2142f123",
   "metadata": {},
   "outputs": [],
   "source": []
  }
 ],
 "metadata": {
  "kernelspec": {
   "display_name": "Python 3 (ipykernel)",
   "language": "python",
   "name": "python3"
  },
  "language_info": {
   "codemirror_mode": {
    "name": "ipython",
    "version": 3
   },
   "file_extension": ".py",
   "mimetype": "text/x-python",
   "name": "python",
   "nbconvert_exporter": "python",
   "pygments_lexer": "ipython3",
   "version": "3.9.13"
  }
 },
 "nbformat": 4,
 "nbformat_minor": 5
}
